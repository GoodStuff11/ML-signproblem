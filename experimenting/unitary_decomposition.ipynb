{
 "cells": [
  {
   "cell_type": "markdown",
   "id": "a9ce1828",
   "metadata": {},
   "source": [
    "# Unitary decomposition"
   ]
  },
  {
   "cell_type": "code",
   "execution_count": 97,
   "id": "f890b38a",
   "metadata": {},
   "outputs": [],
   "source": [
    "import torch\n",
    "import torch.nn as nn\n",
    "import numpy as np\n",
    "\n",
    "def apply_single_site_unitary(vec, U, i):\n",
    "    \"\"\"\n",
    "    Applies unitary to many qubit state which is a flattened array. \n",
    "    \n",
    "    vec = torch.zeros(2**4)\n",
    "    vec[2 + 1] = 1\n",
    "    # vec.reshape(2,2,2)[0,0,1]\n",
    "    new_vec = apply_single_site_unitary(vec, torch.tensor([[0.,1],[1,0]]),1)\n",
    "    new_vec[1] # 1\n",
    "\n",
    "    Args:\n",
    "        vec (torch.tensor): Flattened array corresponding to many-qubit state.\n",
    "            psi.reshape((2,2,2,2,2))[0,1,0,1,1] corresponds to the qubit 11010 (it's reverse order)\n",
    "        U (torch.tensor): Single site unitary to apply. Should be 2x2\n",
    "        i (int): Site to apply unitary to\n",
    "\n",
    "    Returns:\n",
    "        torch.tensor: _description_\n",
    "    \"\"\"\n",
    "    L = int(np.log2(len(vec)))\n",
    "    vec = vec.reshape([2 for _ in range(L)])\n",
    "    vec = torch.moveaxis(torch.tensordot(U,vec,dims=([1],[L-1-i])),0,L-1-i)\n",
    "    return vec.flatten()\n",
    "\n",
    "def apply_two_site_unitary(vec, U, i, j):\n",
    "    \"\"\"_summary_\n",
    "\n",
    "    Args:\n",
    "        vec (_type_): _description_\n",
    "        U (_type_): Two-site unitary to apply. Should be 4x4\n",
    "        i (_type_): _description_\n",
    "        j (_type_): _description_\n",
    "\n",
    "    Returns:\n",
    "        _type_: _description_\n",
    "    \"\"\"\n",
    "    assert i != j\n",
    "    L = int(np.log2(len(vec)))\n",
    "    vec = vec.reshape([2 for _ in range(L)])\n",
    "    if j > i:\n",
    "        vec = torch.moveaxis(torch.moveaxis(vec, L-1-i,0),L-1-j,1)\n",
    "    else:\n",
    "        vec = torch.moveaxis(torch.moveaxis(vec, L-1-j,0),L-1-i,0)\n",
    "    vec = vec.reshape((4,-1))\n",
    "    vec = U @ vec\n",
    "    vec = vec.reshape([2 for _ in range(L)])\n",
    "    vec = torch.moveaxis(torch.moveaxis(vec, 1,L-1-i),0,L-1-j)\n",
    "    return vec.flatten()\n",
    "\n",
    "class RotationLinear(nn.Module):\n",
    "    def __init__(self, dim):\n",
    "        super().__init__()\n",
    "        # Start with a random matrix to learn\n",
    "        self.param = nn.Parameter(torch.randn(dim, dim))\n",
    "\n",
    "    def forward(self, x):\n",
    "        # QR decomposition to get orthogonal matrix\n",
    "        q, r = torch.linalg.qr(self.param)\n",
    "        \n",
    "        # Optional: enforce right-handed coordinate system (det = +1)\n",
    "        # Flip sign if determinant is -1\n",
    "        if torch.det(q) < 0:\n",
    "            q[:, -1] *= -1\n",
    "\n",
    "        return x @ q"
   ]
  },
  {
   "cell_type": "code",
   "execution_count": null,
   "id": "0be08c1c",
   "metadata": {},
   "outputs": [
    {
     "data": {
      "text/plain": [
       "torch.Size([2, 3])"
      ]
     },
     "execution_count": 75,
     "metadata": {},
     "output_type": "execute_result"
    }
   ],
   "source": [
    "torch.tensor([[1,2,3],[4,3,2]])@torch.tensor([[1,2],[4,3],[1,1]])"
   ]
  },
  {
   "cell_type": "code",
   "execution_count": 100,
   "id": "fb824ec7",
   "metadata": {},
   "outputs": [
    {
     "data": {
      "text/plain": [
       "tensor([0., 0., 0., 1., 0., 0., 0., 0.])"
      ]
     },
     "execution_count": 100,
     "metadata": {},
     "output_type": "execute_result"
    }
   ],
   "source": [
    "# vec = torch.rand(2**8)\n",
    "vec = torch.zeros(2**3)\n",
    "vec[1] = 1\n",
    "# vec.reshape(2,2,2)[0,0,1]\n",
    "# vec = vec/torch.sqrt(sum(vec**2))\n",
    "# new_vec = apply_single_site_unitary(vec, torch.tensor([[0.,1],[1,0]]),1)\n",
    "new_vec = apply_two_site_unitary(vec, torch.tensor([[1.,0,0,0],[0,1,0,0],[0,0,0,1],[0,0,1,0]]),0,1)\n",
    "# sum(new_vec**2)\n",
    "# new_vec[2]\n",
    "new_vec"
   ]
  }
 ],
 "metadata": {
  "kernelspec": {
   "display_name": "torch",
   "language": "python",
   "name": "python3"
  },
  "language_info": {
   "codemirror_mode": {
    "name": "ipython",
    "version": 3
   },
   "file_extension": ".py",
   "mimetype": "text/x-python",
   "name": "python",
   "nbconvert_exporter": "python",
   "pygments_lexer": "ipython3",
   "version": "3.10.8"
  }
 },
 "nbformat": 4,
 "nbformat_minor": 5
}
