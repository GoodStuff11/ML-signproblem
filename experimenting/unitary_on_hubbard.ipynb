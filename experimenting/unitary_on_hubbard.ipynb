{
 "cells": [
  {
   "cell_type": "code",
   "execution_count": 5,
   "metadata": {},
   "outputs": [
    {
     "name": "stdout",
     "output_type": "stream",
     "text": [
      "0.0 [] +\n",
      "-0.75 [0^ 0] +\n",
      "0.25 [1^ 1] +\n",
      "1.0 [0^ 0 1^ 1] +\n",
      "-2.0 [0^ 2] +\n",
      "-2.0 [2^ 0] +\n",
      "-2.0 [1^ 3] +\n",
      "-2.0 [3^ 1] +\n",
      "-0.75 [2^ 2] +\n",
      "0.25 [3^ 3] +\n",
      "1.0 [2^ 2 3^ 3]\n"
     ]
    }
   ],
   "source": [
    "# !pip install fermilib\n",
    "\n",
    "from fermilib.transforms import get_sparse_operator, jordan_wigner\n",
    "from fermilib.utils import fermi_hubbard, get_ground_state\n",
    "\n",
    "# Set model.\n",
    "x_dimension = 2\n",
    "y_dimension = 1\n",
    "tunneling = 2.\n",
    "coulomb = 1.\n",
    "magnetic_field = 0.5\n",
    "chemical_potential = 0.25\n",
    "periodic = 1\n",
    "spinless = 0\n",
    "\n",
    "# Get fermion operator.\n",
    "hubbard_model = fermi_hubbard(\n",
    "    x_dimension, y_dimension, tunneling, coulomb, chemical_potential,\n",
    "    magnetic_field, periodic, spinless)\n",
    "print(hubbard_model)\n"
   ]
  }
 ],
 "metadata": {
  "kernelspec": {
   "display_name": "Python 3",
   "language": "python",
   "name": "python3"
  },
  "language_info": {
   "codemirror_mode": {
    "name": "ipython",
    "version": 3
   },
   "file_extension": ".py",
   "mimetype": "text/x-python",
   "name": "python",
   "nbconvert_exporter": "python",
   "pygments_lexer": "ipython3",
   "version": "3.12.7"
  }
 },
 "nbformat": 4,
 "nbformat_minor": 2
}
