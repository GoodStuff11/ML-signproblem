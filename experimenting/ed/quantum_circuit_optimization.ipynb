{
 "cells": [
  {
   "cell_type": "code",
   "execution_count": 1,
   "id": "ddcaf42c",
   "metadata": {},
   "outputs": [
    {
     "name": "stderr",
     "output_type": "stream",
     "text": [
      "\u001b[33m\u001b[1m┌ \u001b[22m\u001b[39m\u001b[33m\u001b[1mWarning: \u001b[22m\u001b[39mPackage cuDNN not found in current path.\n",
      "\u001b[33m\u001b[1m│ \u001b[22m\u001b[39m- Run `import Pkg; Pkg.add(\"cuDNN\")` to install the cuDNN package, then restart julia.\n",
      "\u001b[33m\u001b[1m│ \u001b[22m\u001b[39m- If cuDNN is not installed, some Flux functionalities will not be available when running on the GPU.\n",
      "\u001b[33m\u001b[1m└ \u001b[22m\u001b[39m\u001b[90m@ FluxCUDAExt C:\\Users\\jonat\\.julia\\packages\\Flux\\hiqg1\\ext\\FluxCUDAExt\\FluxCUDAExt.jl:57\u001b[39m\n"
     ]
    },
    {
     "data": {
      "text/plain": [
       "train_network_fd!"
      ]
     },
     "execution_count": 1,
     "metadata": {},
     "output_type": "execute_result"
    }
   ],
   "source": [
    "using LinearAlgebra\n",
    "using Random\n",
    "# using BLAS\n",
    "# using Zygote\n",
    "using ChainRulesCore\n",
    "using Flux\n",
    "using CUDA\n",
    "using ThreadsX\n",
    "\n",
    "include(\"quantum_nn.jl\")"
   ]
  },
  {
   "cell_type": "code",
   "execution_count": null,
   "id": "10ab77c2",
   "metadata": {},
   "outputs": [],
   "source": [
    "\"\"\"\n",
    "Benchmark comparison function\n",
    "\"\"\"\n",
    "function benchmark_comparison()\n",
    "    println(\"=== Performance Benchmark ===\")\n",
    "    \n",
    "    n = 8\n",
    "    num_layers = 10\n",
    "    \n",
    "    # Create target\n",
    "    Random.seed!(42)\n",
    "    A = randn(ComplexF64, n, n)\n",
    "    target, _ = qr(A)\n",
    "    target = Matrix(target)\n",
    "    \n",
    "    # Test different approaches\n",
    "    nn_fast = FastGivensNN(n, num_layers, :nearest_neighbor, use_gpu=false)\n",
    "    \n",
    "    println(\"Timing fast CPU version...\")\n",
    "    @time for _ in 1:100\n",
    "        U = apply_network_fast!(nn_fast, false)\n",
    "    end\n",
    "    \n",
    "    # Test AD optimization\n",
    "    println(\"Testing AD optimization...\")\n",
    "    @time losses = train_network_ad!(nn_fast, target, epochs=200)\n",
    "    \n",
    "    final_U = apply_network_fast!(nn_fast, false)\n",
    "    final_loss = real(tr((final_U - target)' * (final_U - target)))\n",
    "    \n",
    "    println(\"Final loss: $final_loss\")\n",
    "    println(\"Unitarity error: \", norm(final_U' * final_U - I))\n",
    "end\n",
    "\n",
    "\"\"\"\n",
    "Demo function showcasing all optimizations\n",
    "\"\"\"\n",
    "function demo_optimized_givens_nn()\n",
    "    println(\"=== Optimized Givens Neural Network Demo ===\")\n",
    "    \n",
    "    n = 10\n",
    "    num_layers = 8\n",
    "    \n",
    "    # Create target unitary\n",
    "    Random.seed!(42)\n",
    "    A = randn(ComplexF64, n, n)\n",
    "    target, _ = qr(A)\n",
    "    target = Matrix(target)\n",
    "    \n",
    "    println(\"Target unitary ($(n)×$(n)):\")\n",
    "    display(round.(target[1:min(4,n), 1:min(4,n)], digits=3))\n",
    "    println()\n",
    "    \n",
    "    nn = FastGivensNN(n, num_layers, :alternating)\n",
    "    \n",
    "    println(\"Network architecture:\")\n",
    "    println(\"- Dimensions: $(n)×$(n)\")\n",
    "    println(\"- Layers: $num_layers\")\n",
    "    println(\"- Total parameters: $(nn.param_count)\")\n",
    "    println(\"- GPU available: $use_gpu\")\n",
    "    println()\n",
    "    \n",
    "    # Initial loss\n",
    "    initial_U = apply_network_fast!(nn)\n",
    "    initial_loss = real(tr((initial_U - target)' * (initial_U - target)))\n",
    "    println(\"Initial loss: $initial_loss\")\n",
    "    \n",
    "    # Train with AD\n",
    "    println(\"\\nTraining with automatic differentiation...\")\n",
    "    # losses = train_network_ad!(nn, target, lr=0.02, epochs=500, use_gpu=use_gpu)\n",
    "    losses = train_network_fd!(nn, target, lr=0.02, epochs=200)\n",
    "    \n",
    "    # Final results\n",
    "    final_U = apply_network_fast!(nn)\n",
    "    final_loss = real(tr((final_U - target)' * (final_U - target)))\n",
    "    \n",
    "    println(\"\\nOptimization completed!\")\n",
    "    println(\"Final loss: $final_loss\")\n",
    "    println(\"Improvement: $(initial_loss/final_loss)x\")\n",
    "    \n",
    "    println(\"\\nApproximated unitary:\")\n",
    "    display(round.(final_U[1:min(4,n), 1:min(4,n)], digits=3))\n",
    "    \n",
    "    # Check unitarity\n",
    "    unitarity_error = norm(final_U' * final_U - I)\n",
    "    println(\"\\nUnitarity error: $unitarity_error\")\n",
    "    \n",
    "    return nn, target, final_U, losses\n",
    "end\n",
    "\n",
    "# Run demonstration\n",
    "nn, target, final_u, losses = demo_optimized_givens_nn()\n",
    "# benchmark_comparison()"
   ]
  },
  {
   "cell_type": "code",
   "execution_count": 4,
   "id": "4b87a0c6",
   "metadata": {},
   "outputs": [
    {
     "name": "stdout",
     "output_type": "stream",
     "text": [
      "Starting AD training...\n"
     ]
    },
    {
     "ename": "LoadError",
     "evalue": "TaskFailedException\n\n\u001b[91m    nested task error: \u001b[39mMutating arrays is not supported -- called setindex!(Matrix{ComplexF64}, ...)\n    This error occurs when you ask Zygote to differentiate operations that change\n    the elements of arrays in place (e.g. setting values with x .= ...)\n    \n    Possible fixes:\n    - avoid mutating operations (preferred)\n    - or read the documentation and solutions for this error\n      https://fluxml.ai/Zygote.jl/latest/limitations\n    \n    Stacktrace:\n      [1] \u001b[0m\u001b[1merror\u001b[22m\u001b[0m\u001b[1m(\u001b[22m\u001b[90ms\u001b[39m::\u001b[0mString\u001b[0m\u001b[1m)\u001b[22m\n    \u001b[90m    @\u001b[39m \u001b[90mBase\u001b[39m \u001b[90m.\\\u001b[39m\u001b[90m\u001b[4merror.jl:35\u001b[24m\u001b[39m\n      [2] \u001b[0m\u001b[1m_throw_mutation_error\u001b[22m\u001b[0m\u001b[1m(\u001b[22m\u001b[90mf\u001b[39m::\u001b[0mFunction, \u001b[90margs\u001b[39m::\u001b[0mMatrix\u001b[90m{ComplexF64}\u001b[39m\u001b[0m\u001b[1m)\u001b[22m\n    \u001b[90m    @\u001b[39m \u001b[35mZygote\u001b[39m \u001b[90mC:\\Users\\jonat\\.julia\\packages\\Zygote\\zowwZ\\src\\lib\\\u001b[39m\u001b[90m\u001b[4marray.jl:70\u001b[24m\u001b[39m\n      [3] \u001b[0m\u001b[1m(::Zygote.var\"#544#545\"{Matrix{ComplexF64}})\u001b[22m\u001b[0m\u001b[1m(\u001b[22m\u001b[90m#unused#\u001b[39m::\u001b[0mNothing\u001b[0m\u001b[1m)\u001b[22m\n    \u001b[90m    @\u001b[39m \u001b[35mZygote\u001b[39m \u001b[90mC:\\Users\\jonat\\.julia\\packages\\Zygote\\zowwZ\\src\\lib\\\u001b[39m\u001b[90m\u001b[4marray.jl:82\u001b[24m\u001b[39m\n      [4] \u001b[0m\u001b[1m(::Zygote.var\"#2627#back#546\"{Zygote.var\"#544#545\"{Matrix{ComplexF64}}})\u001b[22m\u001b[0m\u001b[1m(\u001b[22m\u001b[90mΔ\u001b[39m::\u001b[0mNothing\u001b[0m\u001b[1m)\u001b[22m\n    \u001b[90m    @\u001b[39m \u001b[35mZygote\u001b[39m \u001b[90mC:\\Users\\jonat\\.julia\\packages\\ZygoteRules\\CkVIK\\src\\\u001b[39m\u001b[90m\u001b[4madjoint.jl:72\u001b[24m\u001b[39m\n      [5] \u001b[0m\u001b[1mPullback\u001b[22m\n    \u001b[90m    @\u001b[39m \u001b[90mc:\\Users\\jonat\\OneDrive - Cornell University\\programming\\cornell courses\\research\\experimenting\\ed\\\u001b[39m\u001b[90m\u001b[4mquantum_nn.jl:16\u001b[24m\u001b[39m\u001b[90m [inlined]\u001b[39m\n      [6] \u001b[0m\u001b[1m(::Zygote.Pullback{Tuple{typeof(apply_givens_inplace!), Matrix{ComplexF64}, Int64, Int64, Float64, Float64}, Any})\u001b[22m\u001b[0m\u001b[1m(\u001b[22m\u001b[90mΔ\u001b[39m::\u001b[0mNothing\u001b[0m\u001b[1m)\u001b[22m\n    \u001b[90m    @\u001b[39m \u001b[35mZygote\u001b[39m \u001b[90mC:\\Users\\jonat\\.julia\\packages\\Zygote\\zowwZ\\src\\compiler\\\u001b[39m\u001b[90m\u001b[4minterface2.jl:0\u001b[24m\u001b[39m\n      [7] \u001b[0m\u001b[1mPullback\u001b[22m\n    \u001b[90m    @\u001b[39m \u001b[90mc:\\Users\\jonat\\OneDrive - Cornell University\\programming\\cornell courses\\research\\experimenting\\ed\\\u001b[39m\u001b[90m\u001b[4mquantum_nn.jl:126\u001b[24m\u001b[39m\u001b[90m [inlined]\u001b[39m\n      [8] \u001b[0m\u001b[1m(::Zygote.Pullback{Tuple{var\"#25#26\"{Matrix{ComplexF64}, FastGivensLayer}, Int64}, Tuple{Zygote.var\"#2184#back#307\"{Zygote.var\"#back#306\"{:θ, Zygote.Context{false}, FastGivensLayer, Vector{Float64}}}, Zygote.ZBack{ChainRules.var\"#getindex_pullback#670\"{Vector{Float64}, Tuple{Int64}, Tuple{NoTangent}}}, Zygote.ZBack{ChainRules.var\"#getindex_pullback#670\"{Vector{Float64}, Tuple{Int64}, Tuple{NoTangent}}}, Zygote.var\"#2033#back#217\"{Zygote.var\"#back#215\"{2, 2, Zygote.Context{false}, Int64}}, Zygote.var\"#2184#back#307\"{Zygote.var\"#back#306\"{:φ, Zygote.Context{false}, FastGivensLayer, Vector{Float64}}}, Zygote.var\"#2184#back#307\"{Zygote.var\"#back#306\"{:layer, Zygote.Context{false}, var\"#25#26\"{Matrix{ComplexF64}, FastGivensLayer}, FastGivensLayer}}, Zygote.Pullback{Tuple{typeof(apply_givens_inplace!), Matrix{ComplexF64}, Int64, Int64, Float64, Float64}, Any}, Zygote.var\"#2033#back#217\"{Zygote.var\"#back#215\"{2, 1, Zygote.Context{false}, Int64}}, Zygote.var\"#2184#back#307\"{Zygote.var\"#back#306\"{:layer, Zygote.Context{false}, var\"#25#26\"{Matrix{ComplexF64}, FastGivensLayer}, FastGivensLayer}}, Zygote.var\"#2184#back#307\"{Zygote.var\"#back#306\"{:U, Zygote.Context{false}, var\"#25#26\"{Matrix{ComplexF64}, FastGivensLayer}, Matrix{ComplexF64}}}, Zygote.var\"#back#250\"{Zygote.var\"#2033#back#217\"{Zygote.var\"#back#215\"{2, 2, Zygote.Context{false}, Int64}}}, Zygote.var\"#2033#back#217\"{Zygote.var\"#back#215\"{2, 1, Zygote.Context{false}, Int64}}, Zygote.var\"#2184#back#307\"{Zygote.var\"#back#306\"{:layer, Zygote.Context{false}, var\"#25#26\"{Matrix{ComplexF64}, FastGivensLayer}, FastGivensLayer}}, Zygote.var\"#back#249\"{Zygote.var\"#2033#back#217\"{Zygote.var\"#back#215\"{2, 1, Zygote.Context{false}, Int64}}}, Zygote.var\"#2184#back#307\"{Zygote.var\"#back#306\"{:pairs, Zygote.Context{false}, FastGivensLayer, Vector{Tuple{Int64, Int64}}}}, Zygote.ZBack{ChainRules.var\"#getindex_pullback#670\"{Vector{Tuple{Int64, Int64}}, Tuple{Int64}, Tuple{NoTangent}}}}})\u001b[22m\u001b[0m\u001b[1m(\u001b[22m\u001b[90mΔ\u001b[39m::\u001b[0mNothing\u001b[0m\u001b[1m)\u001b[22m\n    \u001b[90m    @\u001b[39m \u001b[35mZygote\u001b[39m \u001b[90mC:\\Users\\jonat\\.julia\\packages\\Zygote\\zowwZ\\src\\compiler\\\u001b[39m\u001b[90m\u001b[4minterface2.jl:0\u001b[24m\u001b[39m\n      [9] \u001b[0m\u001b[1mPullback\u001b[22m\n    \u001b[90m    @\u001b[39m \u001b[90mC:\\Users\\jonat\\.julia\\packages\\ThreadsX\\Bml38\\src\\\u001b[39m\u001b[90m\u001b[4mforeach.jl:32\u001b[24m\u001b[39m\u001b[90m [inlined]\u001b[39m\n     [10] \u001b[0m\u001b[1mPullback\u001b[22m\n    \u001b[90m    @\u001b[39m \u001b[90m.\\\u001b[39m\u001b[90m\u001b[4mthreadingconstructs.jl:410\u001b[24m\u001b[39m\u001b[90m [inlined]\u001b[39m\n     [11] \u001b[0m\u001b[1m(::Zygote.Pullback{Tuple{ThreadsX.Implementations.var\"#59#60\"{var\"#25#26\"{Matrix{ComplexF64}, FastGivensLayer}, Val{false}, SubArray{Int64, 1, Vector{Int64}, Tuple{UnitRange{Int64}}, true}}}, Tuple{Zygote.var\"#2184#back#307\"{Zygote.var\"#back#306\"{:f, Zygote.Context{false}, ThreadsX.Implementations.var\"#59#60\"{var\"#25#26\"{Matrix{ComplexF64}, FastGivensLayer}, Val{false}, SubArray{Int64, 1, Vector{Int64}, Tuple{UnitRange{Int64}}, true}}, var\"#25#26\"{Matrix{ComplexF64}, FastGivensLayer}}}, Zygote.var\"#2184#back#307\"{Zygote.var\"#back#306\"{:p, Zygote.Context{false}, ThreadsX.Implementations.var\"#59#60\"{var\"#25#26\"{Matrix{ComplexF64}, FastGivensLayer}, Val{false}, SubArray{Int64, 1, Vector{Int64}, Tuple{UnitRange{Int64}}, true}}, SubArray{Int64, 1, Vector{Int64}, Tuple{UnitRange{Int64}}, true}}}, Zygote.Pullback{Tuple{typeof(ThreadsX.Implementations.foreach_linear_seq), var\"#25#26\"{Matrix{ComplexF64}, FastGivensLayer}, SubArray{Int64, 1, Vector{Int64}, Tuple{UnitRange{Int64}}, true}, Val{false}}, Any}, Zygote.var\"#1958#back#181\"{Zygote.var\"#177#180\"}, Zygote.var\"#2184#back#307\"{Zygote.var\"#back#306\"{:simd, Zygote.Context{false}, ThreadsX.Implementations.var\"#59#60\"{var\"#25#26\"{Matrix{ComplexF64}, FastGivensLayer}, Val{false}, SubArray{Int64, 1, Vector{Int64}, Tuple{UnitRange{Int64}}, true}}, Val{false}}}}})\u001b[22m\u001b[0m\u001b[1m(\u001b[22m\u001b[90mΔ\u001b[39m::\u001b[0mNothing\u001b[0m\u001b[1m)\u001b[22m\n    \u001b[90m    @\u001b[39m \u001b[35mZygote\u001b[39m \u001b[90mC:\\Users\\jonat\\.julia\\packages\\Zygote\\zowwZ\\src\\compiler\\\u001b[39m\u001b[90m\u001b[4minterface2.jl:0\u001b[24m\u001b[39m\n     [12] \u001b[0m\u001b[1m(::Zygote.var\"#393#394\"{Nothing, Zygote.Pullback{Tuple{ThreadsX.Implementations.var\"#59#60\"{var\"#25#26\"{Matrix{ComplexF64}, FastGivensLayer}, Val{false}, SubArray{Int64, 1, Vector{Int64}, Tuple{UnitRange{Int64}}, true}}}, Tuple{Zygote.var\"#2184#back#307\"{Zygote.var\"#back#306\"{:f, Zygote.Context{false}, ThreadsX.Implementations.var\"#59#60\"{var\"#25#26\"{Matrix{ComplexF64}, FastGivensLayer}, Val{false}, SubArray{Int64, 1, Vector{Int64}, Tuple{UnitRange{Int64}}, true}}, var\"#25#26\"{Matrix{ComplexF64}, FastGivensLayer}}}, Zygote.var\"#2184#back#307\"{Zygote.var\"#back#306\"{:p, Zygote.Context{false}, ThreadsX.Implementations.var\"#59#60\"{var\"#25#26\"{Matrix{ComplexF64}, FastGivensLayer}, Val{false}, SubArray{Int64, 1, Vector{Int64}, Tuple{UnitRange{Int64}}, true}}, SubArray{Int64, 1, Vector{Int64}, Tuple{UnitRange{Int64}}, true}}}, Zygote.Pullback{Tuple{typeof(ThreadsX.Implementations.foreach_linear_seq), var\"#25#26\"{Matrix{ComplexF64}, FastGivensLayer}, SubArray{Int64, 1, Vector{Int64}, Tuple{UnitRange{Int64}}, true}, Val{false}}, Any}, Zygote.var\"#1958#back#181\"{Zygote.var\"#177#180\"}, Zygote.var\"#2184#back#307\"{Zygote.var\"#back#306\"{:simd, Zygote.Context{false}, ThreadsX.Implementations.var\"#59#60\"{var\"#25#26\"{Matrix{ComplexF64}, FastGivensLayer}, Val{false}, SubArray{Int64, 1, Vector{Int64}, Tuple{UnitRange{Int64}}, true}}, Val{false}}}}}})\u001b[22m\u001b[0m\u001b[1m(\u001b[22m\u001b[0m\u001b[1m)\u001b[22m\n    \u001b[90m    @\u001b[39m \u001b[35mZygote\u001b[39m \u001b[90mC:\\Users\\jonat\\.julia\\packages\\Zygote\\zowwZ\\src\\lib\\\u001b[39m\u001b[90m\u001b[4mbase.jl:134\u001b[24m\u001b[39m",
     "output_type": "error",
     "traceback": [
      "TaskFailedException\n\n\u001b[91m    nested task error: \u001b[39mMutating arrays is not supported -- called setindex!(Matrix{ComplexF64}, ...)\n    This error occurs when you ask Zygote to differentiate operations that change\n    the elements of arrays in place (e.g. setting values with x .= ...)\n    \n    Possible fixes:\n    - avoid mutating operations (preferred)\n    - or read the documentation and solutions for this error\n      https://fluxml.ai/Zygote.jl/latest/limitations\n    \n    Stacktrace:\n      [1] \u001b[0m\u001b[1merror\u001b[22m\u001b[0m\u001b[1m(\u001b[22m\u001b[90ms\u001b[39m::\u001b[0mString\u001b[0m\u001b[1m)\u001b[22m\n    \u001b[90m    @\u001b[39m \u001b[90mBase\u001b[39m \u001b[90m.\\\u001b[39m\u001b[90m\u001b[4merror.jl:35\u001b[24m\u001b[39m\n      [2] \u001b[0m\u001b[1m_throw_mutation_error\u001b[22m\u001b[0m\u001b[1m(\u001b[22m\u001b[90mf\u001b[39m::\u001b[0mFunction, \u001b[90margs\u001b[39m::\u001b[0mMatrix\u001b[90m{ComplexF64}\u001b[39m\u001b[0m\u001b[1m)\u001b[22m\n    \u001b[90m    @\u001b[39m \u001b[35mZygote\u001b[39m \u001b[90mC:\\Users\\jonat\\.julia\\packages\\Zygote\\zowwZ\\src\\lib\\\u001b[39m\u001b[90m\u001b[4marray.jl:70\u001b[24m\u001b[39m\n      [3] \u001b[0m\u001b[1m(::Zygote.var\"#544#545\"{Matrix{ComplexF64}})\u001b[22m\u001b[0m\u001b[1m(\u001b[22m\u001b[90m#unused#\u001b[39m::\u001b[0mNothing\u001b[0m\u001b[1m)\u001b[22m\n    \u001b[90m    @\u001b[39m \u001b[35mZygote\u001b[39m \u001b[90mC:\\Users\\jonat\\.julia\\packages\\Zygote\\zowwZ\\src\\lib\\\u001b[39m\u001b[90m\u001b[4marray.jl:82\u001b[24m\u001b[39m\n      [4] \u001b[0m\u001b[1m(::Zygote.var\"#2627#back#546\"{Zygote.var\"#544#545\"{Matrix{ComplexF64}}})\u001b[22m\u001b[0m\u001b[1m(\u001b[22m\u001b[90mΔ\u001b[39m::\u001b[0mNothing\u001b[0m\u001b[1m)\u001b[22m\n    \u001b[90m    @\u001b[39m \u001b[35mZygote\u001b[39m \u001b[90mC:\\Users\\jonat\\.julia\\packages\\ZygoteRules\\CkVIK\\src\\\u001b[39m\u001b[90m\u001b[4madjoint.jl:72\u001b[24m\u001b[39m\n      [5] \u001b[0m\u001b[1mPullback\u001b[22m\n    \u001b[90m    @\u001b[39m \u001b[90mc:\\Users\\jonat\\OneDrive - Cornell University\\programming\\cornell courses\\research\\experimenting\\ed\\\u001b[39m\u001b[90m\u001b[4mquantum_nn.jl:16\u001b[24m\u001b[39m\u001b[90m [inlined]\u001b[39m\n      [6] \u001b[0m\u001b[1m(::Zygote.Pullback{Tuple{typeof(apply_givens_inplace!), Matrix{ComplexF64}, Int64, Int64, Float64, Float64}, Any})\u001b[22m\u001b[0m\u001b[1m(\u001b[22m\u001b[90mΔ\u001b[39m::\u001b[0mNothing\u001b[0m\u001b[1m)\u001b[22m\n    \u001b[90m    @\u001b[39m \u001b[35mZygote\u001b[39m \u001b[90mC:\\Users\\jonat\\.julia\\packages\\Zygote\\zowwZ\\src\\compiler\\\u001b[39m\u001b[90m\u001b[4minterface2.jl:0\u001b[24m\u001b[39m\n      [7] \u001b[0m\u001b[1mPullback\u001b[22m\n    \u001b[90m    @\u001b[39m \u001b[90mc:\\Users\\jonat\\OneDrive - Cornell University\\programming\\cornell courses\\research\\experimenting\\ed\\\u001b[39m\u001b[90m\u001b[4mquantum_nn.jl:126\u001b[24m\u001b[39m\u001b[90m [inlined]\u001b[39m\n      [8] \u001b[0m\u001b[1m(::Zygote.Pullback{Tuple{var\"#25#26\"{Matrix{ComplexF64}, FastGivensLayer}, Int64}, Tuple{Zygote.var\"#2184#back#307\"{Zygote.var\"#back#306\"{:θ, Zygote.Context{false}, FastGivensLayer, Vector{Float64}}}, Zygote.ZBack{ChainRules.var\"#getindex_pullback#670\"{Vector{Float64}, Tuple{Int64}, Tuple{NoTangent}}}, Zygote.ZBack{ChainRules.var\"#getindex_pullback#670\"{Vector{Float64}, Tuple{Int64}, Tuple{NoTangent}}}, Zygote.var\"#2033#back#217\"{Zygote.var\"#back#215\"{2, 2, Zygote.Context{false}, Int64}}, Zygote.var\"#2184#back#307\"{Zygote.var\"#back#306\"{:φ, Zygote.Context{false}, FastGivensLayer, Vector{Float64}}}, Zygote.var\"#2184#back#307\"{Zygote.var\"#back#306\"{:layer, Zygote.Context{false}, var\"#25#26\"{Matrix{ComplexF64}, FastGivensLayer}, FastGivensLayer}}, Zygote.Pullback{Tuple{typeof(apply_givens_inplace!), Matrix{ComplexF64}, Int64, Int64, Float64, Float64}, Any}, Zygote.var\"#2033#back#217\"{Zygote.var\"#back#215\"{2, 1, Zygote.Context{false}, Int64}}, Zygote.var\"#2184#back#307\"{Zygote.var\"#back#306\"{:layer, Zygote.Context{false}, var\"#25#26\"{Matrix{ComplexF64}, FastGivensLayer}, FastGivensLayer}}, Zygote.var\"#2184#back#307\"{Zygote.var\"#back#306\"{:U, Zygote.Context{false}, var\"#25#26\"{Matrix{ComplexF64}, FastGivensLayer}, Matrix{ComplexF64}}}, Zygote.var\"#back#250\"{Zygote.var\"#2033#back#217\"{Zygote.var\"#back#215\"{2, 2, Zygote.Context{false}, Int64}}}, Zygote.var\"#2033#back#217\"{Zygote.var\"#back#215\"{2, 1, Zygote.Context{false}, Int64}}, Zygote.var\"#2184#back#307\"{Zygote.var\"#back#306\"{:layer, Zygote.Context{false}, var\"#25#26\"{Matrix{ComplexF64}, FastGivensLayer}, FastGivensLayer}}, Zygote.var\"#back#249\"{Zygote.var\"#2033#back#217\"{Zygote.var\"#back#215\"{2, 1, Zygote.Context{false}, Int64}}}, Zygote.var\"#2184#back#307\"{Zygote.var\"#back#306\"{:pairs, Zygote.Context{false}, FastGivensLayer, Vector{Tuple{Int64, Int64}}}}, Zygote.ZBack{ChainRules.var\"#getindex_pullback#670\"{Vector{Tuple{Int64, Int64}}, Tuple{Int64}, Tuple{NoTangent}}}}})\u001b[22m\u001b[0m\u001b[1m(\u001b[22m\u001b[90mΔ\u001b[39m::\u001b[0mNothing\u001b[0m\u001b[1m)\u001b[22m\n    \u001b[90m    @\u001b[39m \u001b[35mZygote\u001b[39m \u001b[90mC:\\Users\\jonat\\.julia\\packages\\Zygote\\zowwZ\\src\\compiler\\\u001b[39m\u001b[90m\u001b[4minterface2.jl:0\u001b[24m\u001b[39m\n      [9] \u001b[0m\u001b[1mPullback\u001b[22m\n    \u001b[90m    @\u001b[39m \u001b[90mC:\\Users\\jonat\\.julia\\packages\\ThreadsX\\Bml38\\src\\\u001b[39m\u001b[90m\u001b[4mforeach.jl:32\u001b[24m\u001b[39m\u001b[90m [inlined]\u001b[39m\n     [10] \u001b[0m\u001b[1mPullback\u001b[22m\n    \u001b[90m    @\u001b[39m \u001b[90m.\\\u001b[39m\u001b[90m\u001b[4mthreadingconstructs.jl:410\u001b[24m\u001b[39m\u001b[90m [inlined]\u001b[39m\n     [11] \u001b[0m\u001b[1m(::Zygote.Pullback{Tuple{ThreadsX.Implementations.var\"#59#60\"{var\"#25#26\"{Matrix{ComplexF64}, FastGivensLayer}, Val{false}, SubArray{Int64, 1, Vector{Int64}, Tuple{UnitRange{Int64}}, true}}}, Tuple{Zygote.var\"#2184#back#307\"{Zygote.var\"#back#306\"{:f, Zygote.Context{false}, ThreadsX.Implementations.var\"#59#60\"{var\"#25#26\"{Matrix{ComplexF64}, FastGivensLayer}, Val{false}, SubArray{Int64, 1, Vector{Int64}, Tuple{UnitRange{Int64}}, true}}, var\"#25#26\"{Matrix{ComplexF64}, FastGivensLayer}}}, Zygote.var\"#2184#back#307\"{Zygote.var\"#back#306\"{:p, Zygote.Context{false}, ThreadsX.Implementations.var\"#59#60\"{var\"#25#26\"{Matrix{ComplexF64}, FastGivensLayer}, Val{false}, SubArray{Int64, 1, Vector{Int64}, Tuple{UnitRange{Int64}}, true}}, SubArray{Int64, 1, Vector{Int64}, Tuple{UnitRange{Int64}}, true}}}, Zygote.Pullback{Tuple{typeof(ThreadsX.Implementations.foreach_linear_seq), var\"#25#26\"{Matrix{ComplexF64}, FastGivensLayer}, SubArray{Int64, 1, Vector{Int64}, Tuple{UnitRange{Int64}}, true}, Val{false}}, Any}, Zygote.var\"#1958#back#181\"{Zygote.var\"#177#180\"}, Zygote.var\"#2184#back#307\"{Zygote.var\"#back#306\"{:simd, Zygote.Context{false}, ThreadsX.Implementations.var\"#59#60\"{var\"#25#26\"{Matrix{ComplexF64}, FastGivensLayer}, Val{false}, SubArray{Int64, 1, Vector{Int64}, Tuple{UnitRange{Int64}}, true}}, Val{false}}}}})\u001b[22m\u001b[0m\u001b[1m(\u001b[22m\u001b[90mΔ\u001b[39m::\u001b[0mNothing\u001b[0m\u001b[1m)\u001b[22m\n    \u001b[90m    @\u001b[39m \u001b[35mZygote\u001b[39m \u001b[90mC:\\Users\\jonat\\.julia\\packages\\Zygote\\zowwZ\\src\\compiler\\\u001b[39m\u001b[90m\u001b[4minterface2.jl:0\u001b[24m\u001b[39m\n     [12] \u001b[0m\u001b[1m(::Zygote.var\"#393#394\"{Nothing, Zygote.Pullback{Tuple{ThreadsX.Implementations.var\"#59#60\"{var\"#25#26\"{Matrix{ComplexF64}, FastGivensLayer}, Val{false}, SubArray{Int64, 1, Vector{Int64}, Tuple{UnitRange{Int64}}, true}}}, Tuple{Zygote.var\"#2184#back#307\"{Zygote.var\"#back#306\"{:f, Zygote.Context{false}, ThreadsX.Implementations.var\"#59#60\"{var\"#25#26\"{Matrix{ComplexF64}, FastGivensLayer}, Val{false}, SubArray{Int64, 1, Vector{Int64}, Tuple{UnitRange{Int64}}, true}}, var\"#25#26\"{Matrix{ComplexF64}, FastGivensLayer}}}, Zygote.var\"#2184#back#307\"{Zygote.var\"#back#306\"{:p, Zygote.Context{false}, ThreadsX.Implementations.var\"#59#60\"{var\"#25#26\"{Matrix{ComplexF64}, FastGivensLayer}, Val{false}, SubArray{Int64, 1, Vector{Int64}, Tuple{UnitRange{Int64}}, true}}, SubArray{Int64, 1, Vector{Int64}, Tuple{UnitRange{Int64}}, true}}}, Zygote.Pullback{Tuple{typeof(ThreadsX.Implementations.foreach_linear_seq), var\"#25#26\"{Matrix{ComplexF64}, FastGivensLayer}, SubArray{Int64, 1, Vector{Int64}, Tuple{UnitRange{Int64}}, true}, Val{false}}, Any}, Zygote.var\"#1958#back#181\"{Zygote.var\"#177#180\"}, Zygote.var\"#2184#back#307\"{Zygote.var\"#back#306\"{:simd, Zygote.Context{false}, ThreadsX.Implementations.var\"#59#60\"{var\"#25#26\"{Matrix{ComplexF64}, FastGivensLayer}, Val{false}, SubArray{Int64, 1, Vector{Int64}, Tuple{UnitRange{Int64}}, true}}, Val{false}}}}}})\u001b[22m\u001b[0m\u001b[1m(\u001b[22m\u001b[0m\u001b[1m)\u001b[22m\n    \u001b[90m    @\u001b[39m \u001b[35mZygote\u001b[39m \u001b[90mC:\\Users\\jonat\\.julia\\packages\\Zygote\\zowwZ\\src\\lib\\\u001b[39m\u001b[90m\u001b[4mbase.jl:134\u001b[24m\u001b[39m",
      "",
      "Stacktrace:",
      "  [1] wait",
      "    @ .\\task.jl:349 [inlined]",
      "  [2] fetch(t::Task)",
      "    @ Base .\\task.jl:369",
      "  [3] (::Zygote.var\"#388#390\"{Zygote.Context{false}, Task})(#unused#::Nothing)",
      "    @ Zygote C:\\Users\\jonat\\.julia\\packages\\Zygote\\zowwZ\\src\\lib\\base.jl:128",
      "  [4] (::Zygote.var\"#2304#back#391\"{Zygote.var\"#388#390\"{Zygote.Context{false}, Task}})(Δ::Nothing)",
      "    @ Zygote C:\\Users\\jonat\\.julia\\packages\\ZygoteRules\\CkVIK\\src\\adjoint.jl:72",
      "  [5] Pullback",
      "    @ .\\threadingconstructs.jl:414 [inlined]",
      "  [6] (::Zygote.Pullback{Tuple{typeof(ThreadsX.Implementations.foreach_array), var\"#25#26\"{Matrix{ComplexF64}, FastGivensLayer}, IndexLinear, Vector{Int64}, Int64, Val{false}}, Any})(Δ::Nothing)",
      "    @ Zygote C:\\Users\\jonat\\.julia\\packages\\Zygote\\zowwZ\\src\\compiler\\interface2.jl:0",
      "  [7] Pullback",
      "    @ C:\\Users\\jonat\\.julia\\packages\\ThreadsX\\Bml38\\src\\foreach.jl:6 [inlined]",
      "  [8] (::Zygote.Pullback{Tuple{ThreadsX.Implementations.var\"##foreach#58\", Int64, Val{false}, typeof(ThreadsX.foreach), var\"#25#26\"{Matrix{ComplexF64}, FastGivensLayer}, Vector{Int64}}, Tuple{Zygote.Pullback{Tuple{typeof(ThreadsX.Implementations.verify_simd_flag), Val{false}}, Tuple{Zygote.Pullback{Tuple{typeof(ThreadsX.Implementations._asval), Val{false}}, Tuple{}}, Zygote.Pullback{Tuple{typeof(ThreadsX.Implementations.__verify_simd_flag), Val{false}, Val{false}}, Tuple{}}}}, Zygote.Pullback{Tuple{typeof(ThreadsX.Implementations.foreach_array), var\"#25#26\"{Matrix{ComplexF64}, FastGivensLayer}, IndexLinear, Vector{Int64}, Int64, Val{false}}, Any}, Zygote.Pullback{Tuple{Type{IndexStyle}, Vector{Int64}}, Tuple{Zygote.ZBack{Returns{Tuple{NoTangent, NoTangent}}}, Zygote.Pullback{Tuple{Type{IndexStyle}, Type{Vector{Int64}}}, Tuple{}}}}}})(Δ::Nothing)",
      "    @ Zygote C:\\Users\\jonat\\.julia\\packages\\Zygote\\zowwZ\\src\\compiler\\interface2.jl:0",
      "  [9] Pullback",
      "    @ C:\\Users\\jonat\\.julia\\packages\\ThreadsX\\Bml38\\src\\foreach.jl:6 [inlined]",
      " [10] (::Zygote.Pullback{Tuple{typeof(ThreadsX.foreach), var\"#25#26\"{Matrix{ComplexF64}, FastGivensLayer}, Vector{Int64}}, Tuple{Zygote.Pullback{Tuple{ThreadsX.Implementations.var\"##foreach#58\", Int64, Val{false}, typeof(ThreadsX.foreach), var\"#25#26\"{Matrix{ComplexF64}, FastGivensLayer}, Vector{Int64}}, Tuple{Zygote.Pullback{Tuple{typeof(ThreadsX.Implementations.verify_simd_flag), Val{false}}, Tuple{Zygote.Pullback{Tuple{typeof(ThreadsX.Implementations._asval), Val{false}}, Tuple{}}, Zygote.Pullback{Tuple{typeof(ThreadsX.Implementations.__verify_simd_flag), Val{false}, Val{false}}, Tuple{}}}}, Zygote.Pullback{Tuple{typeof(ThreadsX.Implementations.foreach_array), var\"#25#26\"{Matrix{ComplexF64}, FastGivensLayer}, IndexLinear, Vector{Int64}, Int64, Val{false}}, Any}, Zygote.Pullback{Tuple{Type{IndexStyle}, Vector{Int64}}, Tuple{Zygote.ZBack{Returns{Tuple{NoTangent, NoTangent}}}, Zygote.Pullback{Tuple{Type{IndexStyle}, Type{Vector{Int64}}}, Tuple{}}}}}}, Zygote.Pullback{Tuple{typeof(ThreadsX.Implementations.default_basesize), Vector{Int64}}, Tuple{Zygote.Pullback{Tuple{typeof(SplittablesBase.amount), Vector{Int64}}, Tuple{Zygote.ZBack{Returns{Tuple{NoTangent, NoTangent}}}}}, Zygote.Pullback{Tuple{typeof(ThreadsX.Implementations.default_basesize), Int64}, Tuple{Zygote.Pullback{Tuple{typeof(getproperty), Module, Symbol}, Tuple{Zygote.Pullback{Tuple{typeof(getglobal), Module, Symbol}, Tuple{typeof(getglobal)}}}}, Zygote.ZBack{Returns{Tuple{NoTangent, NoTangent, NoTangent}}}, Zygote.ZBack{Returns{Tuple{NoTangent}}}, Zygote.ZBack{ChainRules.var\"#max_pullback#418\"{Bool, Bool, ProjectTo{Float64, NamedTuple{(), Tuple{}}}, ProjectTo{Float64, NamedTuple{(), Tuple{}}}}}, Zygote.ZBack{ChainRules.var\"#times_pullback2#423\"{Int64, Int64}}}}, Zygote.Pullback{Tuple{typeof(Transducers.extract_transducer), Vector{Int64}}, Tuple{Zygote.Pullback{Tuple{Type{Transducers.IdentityTransducer}}, Tuple{}}, Zygote.var\"#2017#back#208\"{typeof(identity)}}}, Zygote.Pullback{Tuple{typeof(last), Tuple{Transducers.IdentityTransducer, Vector{Int64}}}, Tuple{Zygote.Pullback{Tuple{typeof(lastindex), Tuple{Transducers.IdentityTransducer, Vector{Int64}}}, Tuple{Zygote.ZBack{Returns{Tuple{NoTangent, NoTangent}}}}}, Zygote.var\"#2049#back#226\"{Zygote.var\"#back#224\"{2, Zygote.Context{false}, Int64, Vector{Int64}}}}}}}, Zygote.var\"#1926#back#165\"{Zygote.var\"#161#164\"}}})(Δ::Nothing)",
      "    @ Zygote C:\\Users\\jonat\\.julia\\packages\\Zygote\\zowwZ\\src\\compiler\\interface2.jl:0",
      " [11] Pullback",
      "    @ c:\\Users\\jonat\\OneDrive - Cornell University\\programming\\cornell courses\\research\\experimenting\\ed\\quantum_nn.jl:124 [inlined]",
      " [12] (::Zygote.Pullback{Tuple{typeof(apply_layer_fast!), Matrix{ComplexF64}, FastGivensLayer}, Any})(Δ::Nothing)",
      "    @ Zygote C:\\Users\\jonat\\.julia\\packages\\Zygote\\zowwZ\\src\\compiler\\interface2.jl:0",
      " [13] Pullback",
      "    @ c:\\Users\\jonat\\OneDrive - Cornell University\\programming\\cornell courses\\research\\experimenting\\ed\\quantum_nn.jl:162 [inlined]",
      " [14] (::Zygote.Pullback{Tuple{typeof(apply_network_fast!), FastGivensNN, Bool}, Any})(Δ::Matrix{ComplexF64})",
      "    @ Zygote C:\\Users\\jonat\\.julia\\packages\\Zygote\\zowwZ\\src\\compiler\\interface2.jl:0",
      " [15] Pullback",
      "    @ c:\\Users\\jonat\\OneDrive - Cornell University\\programming\\cornell courses\\research\\experimenting\\ed\\quantum_nn.jl:144 [inlined]",
      " [16] Pullback",
      "    @ c:\\Users\\jonat\\OneDrive - Cornell University\\programming\\cornell courses\\research\\experimenting\\ed\\quantum_nn.jl:247 [inlined]",
      " [17] (::Zygote.Pullback{Tuple{typeof(loss_function_ad), Vector{Float64}, Matrix{ComplexF64}, FastGivensNN}, Tuple{Zygote.var\"#3635#back#1113\"{Zygote.var\"#1109#1112\"}, Zygote.Pullback{Tuple{typeof(Base.Broadcast.materialize), Matrix{Float64}}, Tuple{}}, Zygote.var\"#3025#back#789\"{Zygote.var\"#783#787\"{Matrix{Float64}}}, Zygote.var\"#4016#back#1310\"{Zygote.var\"#1306#1309\"{Matrix{ComplexF64}}}, Zygote.Pullback{Tuple{typeof(set_parameters!), FastGivensNN, Vector{Float64}}, Any}, Zygote.Pullback{Tuple{typeof(apply_network_fast!), FastGivensNN}, Tuple{Zygote.Pullback{Tuple{typeof(apply_network_fast!), FastGivensNN, Bool}, Any}}}}})(Δ::Float64)",
      "    @ Zygote C:\\Users\\jonat\\.julia\\packages\\Zygote\\zowwZ\\src\\compiler\\interface2.jl:0",
      " [18] Pullback",
      "    @ c:\\Users\\jonat\\OneDrive - Cornell University\\programming\\cornell courses\\research\\experimenting\\ed\\quantum_nn.jl:289 [inlined]",
      " [19] (::Zygote.Pullback{Tuple{var\"#loss_fn#30\"{FastGivensNN, Matrix{ComplexF64}}, Vector{Float64}}, Tuple{Zygote.var\"#2184#back#307\"{Zygote.var\"#back#306\"{:target, Zygote.Context{false}, var\"#loss_fn#30\"{FastGivensNN, Matrix{ComplexF64}}, Matrix{ComplexF64}}}, Zygote.var\"#2184#back#307\"{Zygote.var\"#back#306\"{:nn, Zygote.Context{false}, var\"#loss_fn#30\"{FastGivensNN, Matrix{ComplexF64}}, FastGivensNN}}, Zygote.Pullback{Tuple{typeof(loss_function_ad), Vector{Float64}, Matrix{ComplexF64}, FastGivensNN}, Tuple{Zygote.var\"#3635#back#1113\"{Zygote.var\"#1109#1112\"}, Zygote.Pullback{Tuple{typeof(Base.Broadcast.materialize), Matrix{Float64}}, Tuple{}}, Zygote.var\"#3025#back#789\"{Zygote.var\"#783#787\"{Matrix{Float64}}}, Zygote.var\"#4016#back#1310\"{Zygote.var\"#1306#1309\"{Matrix{ComplexF64}}}, Zygote.Pullback{Tuple{typeof(set_parameters!), FastGivensNN, Vector{Float64}}, Any}, Zygote.Pullback{Tuple{typeof(apply_network_fast!), FastGivensNN}, Tuple{Zygote.Pullback{Tuple{typeof(apply_network_fast!), FastGivensNN, Bool}, Any}}}}}}})(Δ::Float64)",
      "    @ Zygote C:\\Users\\jonat\\.julia\\packages\\Zygote\\zowwZ\\src\\compiler\\interface2.jl:0",
      " [20] (::Zygote.var\"#78#79\"{Zygote.Pullback{Tuple{var\"#loss_fn#30\"{FastGivensNN, Matrix{ComplexF64}}, Vector{Float64}}, Tuple{Zygote.var\"#2184#back#307\"{Zygote.var\"#back#306\"{:target, Zygote.Context{false}, var\"#loss_fn#30\"{FastGivensNN, Matrix{ComplexF64}}, Matrix{ComplexF64}}}, Zygote.var\"#2184#back#307\"{Zygote.var\"#back#306\"{:nn, Zygote.Context{false}, var\"#loss_fn#30\"{FastGivensNN, Matrix{ComplexF64}}, FastGivensNN}}, Zygote.Pullback{Tuple{typeof(loss_function_ad), Vector{Float64}, Matrix{ComplexF64}, FastGivensNN}, Tuple{Zygote.var\"#3635#back#1113\"{Zygote.var\"#1109#1112\"}, Zygote.Pullback{Tuple{typeof(Base.Broadcast.materialize), Matrix{Float64}}, Tuple{}}, Zygote.var\"#3025#back#789\"{Zygote.var\"#783#787\"{Matrix{Float64}}}, Zygote.var\"#4016#back#1310\"{Zygote.var\"#1306#1309\"{Matrix{ComplexF64}}}, Zygote.Pullback{Tuple{typeof(set_parameters!), FastGivensNN, Vector{Float64}}, Any}, Zygote.Pullback{Tuple{typeof(apply_network_fast!), FastGivensNN}, Tuple{Zygote.Pullback{Tuple{typeof(apply_network_fast!), FastGivensNN, Bool}, Any}}}}}}}})(Δ::Float64)",
      "    @ Zygote C:\\Users\\jonat\\.julia\\packages\\Zygote\\zowwZ\\src\\compiler\\interface.jl:91",
      " [21] withgradient(f::Function, args::Vector{Float64})",
      "    @ Zygote C:\\Users\\jonat\\.julia\\packages\\Zygote\\zowwZ\\src\\compiler\\interface.jl:213",
      " [22] train_network_ad!(nn::FastGivensNN, target::Matrix{ComplexF64}; lr::Float64, epochs::Int64, use_gpu::Bool)",
      "    @ Main c:\\Users\\jonat\\OneDrive - Cornell University\\programming\\cornell courses\\research\\experimenting\\ed\\quantum_nn.jl:311",
      " [23] top-level scope",
      "    @ In[4]:7"
     ]
    }
   ],
   "source": [
    "n = 10\n",
    "nlayers = 8\n",
    "nn = FastGivensNN(n, nlayers, :alternating)\n",
    "A = randn(ComplexF64, n, n)\n",
    "target, _ = qr(A)\n",
    "target = Matrix(target)\n",
    "train_network_ad!(nn, target; lr=0.01, epochs=500)"
   ]
  },
  {
   "cell_type": "code",
   "execution_count": 8,
   "id": "337da588",
   "metadata": {},
   "outputs": [
    {
     "ename": "LoadError",
     "evalue": "Function argument passed to autodiff cannot be proven readonly.\nIf the the function argument cannot contain derivative data, instead call autodiff(Mode, Const(f), ...)\nSee https://enzyme.mit.edu/index.fcgi/julia/stable/faq/#Activity-of-temporary-storage for more information.\nThe potentially writing call is   store {} addrspace(10)* %.fca.1.1.extract, {} addrspace(10)** %.fca.1.1.gep, align 8, !dbg !47, !noalias !61, using   %.fca.1.1.gep = getelementptr inbounds { {} addrspace(10)*, { i64, {} addrspace(10)*, i64, {} addrspace(10)*, {} addrspace(10)* } }, { {} addrspace(10)*, { i64, {} addrspace(10)*, i64, {} addrspace(10)*, {} addrspace(10)* } }* %.innerparm, i64 0, i32 1, i32 1, !dbg !47\n",
     "output_type": "error",
     "traceback": [
      "Function argument passed to autodiff cannot be proven readonly.\nIf the the function argument cannot contain derivative data, instead call autodiff(Mode, Const(f), ...)\nSee https://enzyme.mit.edu/index.fcgi/julia/stable/faq/#Activity-of-temporary-storage for more information.\nThe potentially writing call is   store {} addrspace(10)* %.fca.1.1.extract, {} addrspace(10)** %.fca.1.1.gep, align 8, !dbg !47, !noalias !61, using   %.fca.1.1.gep = getelementptr inbounds { {} addrspace(10)*, { i64, {} addrspace(10)*, i64, {} addrspace(10)*, {} addrspace(10)* } }, { {} addrspace(10)*, { i64, {} addrspace(10)*, i64, {} addrspace(10)*, {} addrspace(10)* } }* %.innerparm, i64 0, i32 1, i32 1, !dbg !47\n",
      ""
     ]
    }
   ],
   "source": [
    "using Enzyme\n",
    "using LinearAlgebra\n",
    "\n",
    "\n",
    "\n",
    "function get_loss_fn(target::Matrix{ComplexF64}, nn)\n",
    "    function loss_function_ad(params::Vector{Float64})\n",
    "        set_parameters!(nn, params)\n",
    "        U = apply_network_fast!(nn)\n",
    "        return sum(abs2.(U - target))\n",
    "    end\n",
    "    return loss_function_ad\n",
    "end\n",
    "\n",
    "\n",
    "n = 5\n",
    "nlayers = 1\n",
    "nn = FastGivensNN(n, nlayers, :alternating)\n",
    "A = randn(ComplexF64, n, n)\n",
    "target, _ = qr(A)\n",
    "target = Matrix(target)\n",
    "x  =  get_parameters(nn)\n",
    "dx = zero(x)\n",
    "\n",
    "Enzyme.autodiff(Reverse, get_loss_fn(target, nn), Active, Duplicated(x, dx))\n",
    "println(ex)"
   ]
  },
  {
   "cell_type": "code",
   "execution_count": 6,
   "id": "cac8d4f6",
   "metadata": {},
   "outputs": [
    {
     "data": {
      "text/plain": [
       "8.944069804641778"
      ]
     },
     "execution_count": 6,
     "metadata": {},
     "output_type": "execute_result"
    }
   ],
   "source": [
    "get_loss_fn(target, nn)(x)"
   ]
  },
  {
   "cell_type": "code",
   "execution_count": 17,
   "id": "21e81462",
   "metadata": {},
   "outputs": [
    {
     "name": "stdout",
     "output_type": "stream",
     "text": [
      "  0.000572 seconds (403 allocations: 36.609 KiB)\n"
     ]
    },
    {
     "data": {
      "text/plain": [
       "6×6 Matrix{ComplexF64}:\n",
       " -0.0940218-0.0362039im  -0.293733+0.0140053im  …  -0.115311-0.246804im\n",
       "  -0.130944+0.294091im    0.318866-0.0907837im     -0.324477-0.0596834im\n",
       "  0.0884993+0.0138738im  -0.301453-0.295738im        0.41824+0.0528502im\n",
       "   0.178484-0.258683im    0.266073+0.220996im       -0.23739+0.546708im\n",
       "  0.0863162-0.806239im    0.182438-0.308155im      -0.245689-0.291155im\n",
       "   0.313208-0.154415im   -0.611475-0.0591047im  …  -0.204732+0.31134im"
      ]
     },
     "execution_count": 17,
     "metadata": {},
     "output_type": "execute_result"
    }
   ],
   "source": [
    "@time apply_network_fast!(nn)"
   ]
  },
  {
   "cell_type": "code",
   "execution_count": 6,
   "id": "405fc8a4",
   "metadata": {},
   "outputs": [
    {
     "data": {
      "text/plain": [
       "500-element Vector{Float64}:\n",
       " 9.874497844157693\n",
       " 8.822152491911272\n",
       " 7.855083321644059\n",
       " 6.973382995819344\n",
       " 6.175124826387282\n",
       " 5.4585627342107\n",
       " 4.822219625799303\n",
       " 4.263870558457331\n",
       " 3.779553908504631\n",
       " 3.363285068882016\n",
       " 3.0075161254995892\n",
       " 2.7039843105421224\n",
       " 2.44454649456204\n",
       " ⋮\n",
       " 0.0010862079451097633\n",
       " 0.0010862064291848863\n",
       " 0.0010862049582019981\n",
       " 0.0010862035307944759\n",
       " 0.0010862021456381058\n",
       " 0.0010862008014497987\n",
       " 0.0010861994969862568\n",
       " 0.0010861982310427275\n",
       " 0.0010861970024517442\n",
       " 0.0010861958100820762\n",
       " 0.001086194652837432\n",
       " 0.0010861935296554823"
      ]
     },
     "execution_count": 6,
     "metadata": {},
     "output_type": "execute_result"
    }
   ],
   "source": [
    "losses"
   ]
  }
 ],
 "metadata": {
  "kernelspec": {
   "display_name": "Julia 1.9.3",
   "language": "julia",
   "name": "julia-1.9"
  },
  "language_info": {
   "file_extension": ".jl",
   "mimetype": "application/julia",
   "name": "julia",
   "version": "1.9.3"
  }
 },
 "nbformat": 4,
 "nbformat_minor": 5
}
