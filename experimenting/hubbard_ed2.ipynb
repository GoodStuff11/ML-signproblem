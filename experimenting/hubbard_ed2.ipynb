{
 "cells": [
  {
   "cell_type": "markdown",
   "metadata": {},
   "source": [
    "Following code was taken from here: https://github.com/hemkum/Exact-Diagonalization-Hubbard-Model/tree/main\n",
    "\n",
    "This is the code associated with the following paper: https://arxiv.org/pdf/1102.4006\n",
    "\n",
    "The results agree with mine in some ways, but disagree in others. "
   ]
  },
  {
   "cell_type": "code",
   "execution_count": 1,
   "metadata": {},
   "outputs": [],
   "source": [
    "import numpy as np\n",
    "import sys\n",
    "from scipy import linalg as LA\n",
    "\n",
    "np.set_printoptions(threshold=sys.maxsize)"
   ]
  },
  {
   "cell_type": "code",
   "execution_count": 54,
   "metadata": {},
   "outputs": [
    {
     "name": "stdout",
     "output_type": "stream",
     "text": [
      "20\n"
     ]
    }
   ],
   "source": [
    "N = 3\n",
    "t = 8\n",
    "U = 0.1\n",
    "def generate_basis_states():\n",
    "    basis_array = []\n",
    "    for i in range((2**(2*N))-1): # iterate over maximum possible number of states\n",
    "        if bin(i).count(\"1\") == N: # filter out possible states\n",
    "            basis_array.append(i)\n",
    "    # print(\"basis vector representation in decimal for N={0} ->\".format(N), basis_array)\n",
    "    # print(\"count of basis state for N = {0} is:\".format(N), len(basis_array))\n",
    "    return basis_array\n",
    "\n",
    "\n",
    "basis_array = generate_basis_states()\n",
    "print(np.size(basis_array))"
   ]
  },
  {
   "cell_type": "code",
   "execution_count": 55,
   "metadata": {},
   "outputs": [],
   "source": [
    "import numpy as np\n",
    "\n",
    "def int2bin(num):  # converts given integer 'n' iumnto binary of length 2N and return half parts as I1 and I2\n",
    "    b_str = format(num, 'b').zfill(2*N) # add padding to make the length equal to 2N\n",
    "    return np.fromiter(b_str, dtype=int) #convert str to array \n",
    "    #I1, I2 = b_str[:len(b_str)//2], b_str[len(b_str)//2:] # slicing into I1 and I2\n",
    "    #return np.fromiter(I1, dtype=int), np.fromiter(I2, dtype=int)\n"
   ]
  },
  {
   "cell_type": "code",
   "execution_count": null,
   "metadata": {},
   "outputs": [
    {
     "name": "stdout",
     "output_type": "stream",
     "text": [
      "6\n"
     ]
    },
    {
     "data": {
      "text/plain": [
       "[-0.03998401278721439, 0.0, 0.0, 0.0, 99.99999999999999, 100.03998401278719]"
      ]
     },
     "execution_count": 72,
     "metadata": {},
     "output_type": "execute_result"
    }
   ],
   "source": [
    "N = 2\n",
    "t = 1\n",
    "U = -2\n",
    "def generate_basis_states():\n",
    "    basis_array = []\n",
    "    for i in range((2**(2*N))-1): # iterate over maximum possible number of states\n",
    "        if bin(i).count(\"1\") == N: # filter out possible states\n",
    "            basis_array.append(i)\n",
    "    # print(\"basis vector representation in decimal for N={0} ->\".format(N), basis_array)\n",
    "    # print(\"count of basis state for N = {0} is:\".format(N), len(basis_array))\n",
    "    return basis_array\n",
    "\n",
    "\n",
    "basis_array = generate_basis_states()\n",
    "print(np.size(basis_array))\n",
    "\n",
    "import numpy as np\n",
    "\n",
    "def int2bin(num):  # converts given integer 'n' iumnto binary of length 2N and return half parts as I1 and I2\n",
    "    b_str = format(num, 'b').zfill(2*N) # add padding to make the length equal to 2N\n",
    "    return np.fromiter(b_str, dtype=int) #convert str to array \n",
    "    #I1, I2 = b_str[:len(b_str)//2], b_str[len(b_str)//2:] # slicing into I1 and I2\n",
    "    #return np.fromiter(I1, dtype=int), np.fromiter(I2, dtype=int)\n",
    "\n",
    "\n",
    "import numpy as np\n",
    "def Ht_operator_matrix(): # procedurally creates Ht operator matrix with #column=2N, #rows=4(N-1)\n",
    "    a_up = np.zeros( (2*N-1, 2*N), dtype=int) \n",
    "    for i in range(2*N-1):\n",
    "        a_up[i][i] = 1\n",
    "        a_up[i][i+1] = -1\n",
    "    a_up = np.delete(a_up,N-1,axis=0) #remove the (n-1) ie the central row from a_up matrix\n",
    "    a_down = a_up* -1 \n",
    "    return np.concatenate((a_up,a_down)) #concatenate a_down below a_up \n",
    "    \n",
    "import numpy as np\n",
    "def Ht_matrix_calculator():\n",
    "    basis_states = generate_basis_states() # generate the basis state matrix for given N\n",
    "    l = len(basis_states) # size of basis matrix for given N\n",
    "    Ht_matrix = np.zeros((l, l), dtype=int) # final matrix containing l*l elements  to be returned    \n",
    "    H = Ht_operator_matrix() # create Ht operator matrix\n",
    "\n",
    "    for i in range(l):\n",
    "        for j in range(l):\n",
    "            phi_j = int2bin( basis_states[j] ) # pick jth vector from basis state matrix\n",
    "            phi_i = int2bin( basis_states[i] )\n",
    "            #operate H on phi_j. make a 2D (phi_j * height of H) matrix, add it to H element wise, call that H_phi_j\n",
    "            H_phi_j = H + np.tile(phi_j, (4*(N-1),1) )\n",
    "            # operate phi_i from left on H_phi_j , by just counting occurances of phi_i in H_phi_j, then append 1 to Ht_matrix[i][j] for each occurance\n",
    "            occurance_count = sum((H_phi_j == phi_i).all(1))\n",
    "            if occurance_count!=0:\n",
    "                Ht_matrix[i][j]+=1\n",
    "    return -t*Ht_matrix\n",
    "            \n",
    "glob_Ht = Ht_matrix_calculator()   \n",
    "#print(a)      \n",
    "# c=Ht_operator_matrix()\n",
    "\n",
    "def Hu_matrix_calculator():\n",
    "    basis_states = generate_basis_states() # generate basis state for a given N\n",
    "    l = len(basis_states) #length of basis_state array\n",
    "    Hu = np.zeros((l, l), dtype=int) # init empty Hu matrix \n",
    "    for i in range(l): \n",
    "        bin_I = int2bin(basis_states[i])  # convert each integer element of basis_state into binary number I\n",
    "        I= np.hsplit(bin_I,2) #split I in half vertically and add both matrix\n",
    "        sum_matrix = I[0]+I[1]\n",
    "        #[Hu[i][i]= 1 for x in sum_matrix if x==2]\n",
    "        # logic to check of a site contains both upspin and downspin, update Hu[i][i] it its true for ith element in binary state\n",
    "        for x in sum_matrix:\n",
    "            if(x==2):\n",
    "                Hu[i][i]=1\n",
    "    return U*Hu\n",
    "    \n",
    "glob_Hu = Hu_matrix_calculator()\n",
    "#print(a)\n",
    "A = glob_Hu+glob_Ht\n",
    "#print(A)\n",
    "e_vals, e_vecs = LA.eig(A)\n",
    "sorted(np.real(e_vals))"
   ]
  },
  {
   "cell_type": "code",
   "execution_count": 53,
   "metadata": {},
   "outputs": [
    {
     "data": {
      "text/plain": [
       "[-35.69813172534223,\n",
       " -25.818614540703454,\n",
       " -25.818614540703443,\n",
       " -25.81861454070338,\n",
       " -25.788543819998328,\n",
       " -17.82863331243753,\n",
       " -17.828633312437475,\n",
       " -17.828633312437454,\n",
       " -17.80465191829714,\n",
       " -17.788543819998363,\n",
       " -17.788543819998324,\n",
       " -17.7885438199983,\n",
       " -17.788543819998285,\n",
       " -15.924999386487887,\n",
       " -9.818694071337493,\n",
       " -9.818694071337477,\n",
       " -9.818694071337456,\n",
       " -9.788543819998322,\n",
       " -7.939998440706985,\n",
       " -7.939998440706966,\n",
       " -7.939998440706951,\n",
       " -7.90000000000001,\n",
       " -7.900000000000007,\n",
       " -7.900000000000006,\n",
       " -7.899999999999998,\n",
       " -7.899999999999997,\n",
       " -1.4187335101178537e-15,\n",
       " -1.4187335101178537e-15,\n",
       " 0.0,\n",
       " 0.0,\n",
       " 2.4518105551035157e-15,\n",
       " 0.04637982567649586,\n",
       " 0.07762060707069798,\n",
       " 0.08000009999912357,\n",
       " 0.08000009999912563,\n",
       " 0.08000009999912563,\n",
       " 0.09999999999999862,\n",
       " 0.09999999999999862,\n",
       " 0.09999999999999926,\n",
       " 0.10000000000000045,\n",
       " 0.10000000000000045,\n",
       " 0.10000000000000112,\n",
       " 0.10000000000000145,\n",
       " 0.10000000000000145,\n",
       " 8.060001540547796,\n",
       " 8.060001540547802,\n",
       " 8.060001540547821,\n",
       " 8.09999999999999,\n",
       " 8.099999999999993,\n",
       " 8.100000000000001,\n",
       " 8.100000000000005,\n",
       " 8.100000000000012,\n",
       " 9.958691123953228,\n",
       " 9.958691123953239,\n",
       " 9.95869112395324,\n",
       " 9.988543819998332,\n",
       " 16.075000607147516,\n",
       " 17.94863321243836,\n",
       " 17.948633212438395,\n",
       " 17.948633212438402,\n",
       " 17.972650390343322,\n",
       " 17.98854381999829,\n",
       " 17.98854381999833,\n",
       " 17.988543819998334,\n",
       " 17.988543819998352,\n",
       " 25.958614388246815,\n",
       " 25.95861438824686,\n",
       " 25.95861438824688,\n",
       " 25.988543819998362,\n",
       " 35.85613159988939]"
      ]
     },
     "execution_count": 53,
     "metadata": {},
     "output_type": "execute_result"
    }
   ],
   "source": []
  }
 ],
 "metadata": {
  "kernelspec": {
   "display_name": "base",
   "language": "python",
   "name": "python3"
  },
  "language_info": {
   "codemirror_mode": {
    "name": "ipython",
    "version": 3
   },
   "file_extension": ".py",
   "mimetype": "text/x-python",
   "name": "python",
   "nbconvert_exporter": "python",
   "pygments_lexer": "ipython3",
   "version": "3.9.12"
  }
 },
 "nbformat": 4,
 "nbformat_minor": 2
}
